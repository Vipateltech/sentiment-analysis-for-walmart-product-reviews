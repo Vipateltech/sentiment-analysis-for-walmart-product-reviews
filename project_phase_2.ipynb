{
 "cells": [
  {
   "cell_type": "code",
   "execution_count": 1,
   "id": "f10e8b31",
   "metadata": {},
   "outputs": [],
   "source": [
    "import pandas as pd\n",
    "import warnings\n",
    "warnings.filterwarnings(\"ignore\")\n",
    "df = pd.read_csv(\"C:\\\\Users\\\\thinkpad\\\\Desktop\\\\project\\\\final_data.csv\")"
   ]
  },
  {
   "cell_type": "code",
   "execution_count": 2,
   "id": "09f0a5f5",
   "metadata": {},
   "outputs": [
    {
     "data": {
      "text/plain": [
       "(12584, 6)"
      ]
     },
     "execution_count": 2,
     "metadata": {},
     "output_type": "execute_result"
    }
   ],
   "source": [
    "df.shape"
   ]
  },
  {
   "cell_type": "code",
   "execution_count": 3,
   "id": "70d72445",
   "metadata": {},
   "outputs": [
    {
     "data": {
      "text/plain": [
       "title      1239\n",
       "date          0\n",
       "rating        0\n",
       "text          9\n",
       "product       0\n",
       "company       0\n",
       "dtype: int64"
      ]
     },
     "execution_count": 3,
     "metadata": {},
     "output_type": "execute_result"
    }
   ],
   "source": [
    "df.isnull().sum()"
   ]
  },
  {
   "cell_type": "code",
   "execution_count": 4,
   "id": "dd2cc4eb",
   "metadata": {},
   "outputs": [
    {
     "data": {
      "text/plain": [
       "title      1232\n",
       "date          0\n",
       "rating        0\n",
       "text          0\n",
       "product       0\n",
       "company       0\n",
       "dtype: int64"
      ]
     },
     "execution_count": 4,
     "metadata": {},
     "output_type": "execute_result"
    }
   ],
   "source": [
    "df1 = df.dropna(subset=['text'])\n",
    "df1.isnull().sum()"
   ]
  },
  {
   "cell_type": "code",
   "execution_count": 5,
   "id": "02fbe7a1",
   "metadata": {},
   "outputs": [
    {
     "data": {
      "text/plain": [
       "title      object\n",
       "date       object\n",
       "rating      int64\n",
       "text       object\n",
       "product    object\n",
       "company    object\n",
       "dtype: object"
      ]
     },
     "execution_count": 5,
     "metadata": {},
     "output_type": "execute_result"
    }
   ],
   "source": [
    "df1.dtypes"
   ]
  },
  {
   "cell_type": "code",
   "execution_count": 14,
   "id": "b99b1662",
   "metadata": {},
   "outputs": [],
   "source": [
    "df1['date'] = df1['date'].replace('Purchaser','')\n",
    "df1['date'] = df1['date'].replace('review','')\n",
    "df1['company'] = df1['company'].replace('Samsung','SAMSUNG')"
   ]
  },
  {
   "cell_type": "code",
   "execution_count": 15,
   "id": "d90f9893",
   "metadata": {},
   "outputs": [],
   "source": [
    "df1['title'] = df1['title'].fillna(' ').apply(str)\n",
    "df1['text'] = df1['text'].fillna(' ').apply(str)\n",
    "df1['date'] = pd.to_datetime(df1['date'])\n",
    "df1['company'] = df1['company'].astype('category')"
   ]
  },
  {
   "cell_type": "code",
   "execution_count": 16,
   "id": "331c3970",
   "metadata": {},
   "outputs": [
    {
     "data": {
      "text/plain": [
       "title              object\n",
       "date       datetime64[ns]\n",
       "rating              int64\n",
       "text               object\n",
       "product            object\n",
       "company          category\n",
       "dtype: object"
      ]
     },
     "execution_count": 16,
     "metadata": {},
     "output_type": "execute_result"
    }
   ],
   "source": [
    "df1.dtypes"
   ]
  },
  {
   "cell_type": "code",
   "execution_count": 9,
   "id": "c035980f",
   "metadata": {},
   "outputs": [
    {
     "data": {
      "text/plain": [
       "title         0\n",
       "date       1144\n",
       "rating        0\n",
       "text          0\n",
       "product       0\n",
       "company       0\n",
       "dtype: int64"
      ]
     },
     "execution_count": 9,
     "metadata": {},
     "output_type": "execute_result"
    }
   ],
   "source": [
    "df1.isnull().sum()"
   ]
  },
  {
   "cell_type": "code",
   "execution_count": 19,
   "id": "a8c0d6a2",
   "metadata": {},
   "outputs": [
    {
     "data": {
      "text/plain": [
       "5    7616\n",
       "1    2296\n",
       "4    1440\n",
       "3     618\n",
       "2     605\n",
       "Name: rating, dtype: int64"
      ]
     },
     "execution_count": 19,
     "metadata": {},
     "output_type": "execute_result"
    }
   ],
   "source": [
    "df1['rating'].value_counts()"
   ]
  },
  {
   "cell_type": "code",
   "execution_count": 18,
   "id": "f4153efd",
   "metadata": {},
   "outputs": [
    {
     "data": {
      "text/plain": [
       "SAMSUNG    2793\n",
       "TCL        2530\n",
       "LG         2420\n",
       "VIZIO      2417\n",
       "Hisense    2415\n",
       "Name: company, dtype: int64"
      ]
     },
     "execution_count": 18,
     "metadata": {},
     "output_type": "execute_result"
    }
   ],
   "source": [
    "df1['company'].value_counts()"
   ]
  },
  {
   "cell_type": "code",
   "execution_count": 12,
   "id": "93f1afc1",
   "metadata": {},
   "outputs": [
    {
     "data": {
      "image/png": "[encoded data removed]",
      "text/plain": [
       "<Figure size 1080x720 with 1 Axes>"
      ]
     },
     "metadata": {},
     "output_type": "display_data"
    }
   ],
   "source": [
    "import matplotlib.pyplot as plt\n",
    "import seaborn as sns\n",
    "\n",
    "\n",
    "plt.figure(figsize=(15,10))\n",
    "sns.set(style = 'whitegrid')\n",
    "total = float(len(df1))\n",
    "ax = sns.countplot(data = df1, x='company')\n",
    "\n",
    "plt.title(\"Review counts for each company\\n\")\n",
    "plt.ylabel(\"Count of reviews\")\n",
    "plt.xlabel(\"\\nComapny\")\n",
    "\n",
    "for p in (ax.patches):\n",
    "    cnt = p.get_height()\n",
    "    x = p.get_x() + p.get_width()\n",
    "    y = p.get_height()\n",
    "    ax.annotate(cnt,(x,y),ha='center')\n",
    "\n",
    "plt.show()"
   ]
  },
  {
   "cell_type": "code",
   "execution_count": 13,
   "id": "785922b0",
   "metadata": {},
   "outputs": [],
   "source": [
    "from powerbiclient import Report, models"
   ]
  },
  {
   "cell_type": "code",
   "execution_count": 14,
   "id": "7d9f2beb",
   "metadata": {},
   "outputs": [],
   "source": [
    "from powerbiclient.authentication import DeviceCodeLoginAuthentication"
   ]
  },
  {
   "cell_type": "code",
   "execution_count": 15,
   "id": "9422b064",
   "metadata": {},
   "outputs": [
    {
     "name": "stdout",
     "output_type": "stream",
     "text": [
      "Performing interactive authentication. Please follow the instructions on the terminal.\n",
      " To sign in, use a web browser to open the page https://microsoft.com/devicelogin and enter the code FC898PWEY to authenticate.\n",
      "You have logged in.\n",
      "Interactive authentication successfully completed.\n"
     ]
    }
   ],
   "source": [
    "device_auth = DeviceCodeLoginAuthentication()"
   ]
  },
  {
   "cell_type": "code",
   "execution_count": 17,
   "id": "901b0848",
   "metadata": {},
   "outputs": [],
   "source": [
    "group_id = \"2df6be52-b70c-488d-928d-6dfda42d66a5\"\n",
    "report_id = \"298f5c06-670e-4a3a-b1f7-cf66a68c8a32\""
   ]
  },
  {
   "cell_type": "code",
   "execution_count": 18,
   "id": "f8c98843",
   "metadata": {},
   "outputs": [
    {
     "data": {
      "application/vnd.jupyter.widget-view+json": {
       "model_id": "861cfca84f314c1089f53e5054c8816c",
       "version_major": 2,
       "version_minor": 0
      },
      "text/plain": [
       "Report()"
      ]
     },
     "metadata": {},
     "output_type": "display_data"
    }
   ],
   "source": [
    "report = Report(group_id = group_id, report_id = report_id, auth = device_auth)\n",
    "report"
   ]
  },
  {
   "cell_type": "markdown",
   "id": "498753cb",
   "metadata": {},
   "source": [
    "## Tokenization"
   ]
  },
  {
   "cell_type": "code",
   "execution_count": 12,
   "id": "045291d1",
   "metadata": {},
   "outputs": [
    {
     "name": "stderr",
     "output_type": "stream",
     "text": [
      "[nltk_data] Downloading package punkt to\n",
      "[nltk_data]     C:\\Users\\thinkpad\\AppData\\Roaming\\nltk_data...\n",
      "[nltk_data]   Package punkt is already up-to-date!\n"
     ]
    }
   ],
   "source": [
    "#firstly converting in tokens and removing punctuations\n",
    "\n",
    "\n",
    "import nltk\n",
    "from nltk.tokenize import word_tokenize\n",
    "nltk.download(\"punkt\")\n",
    "def tok_pun(text):\n",
    "    tokenized_words = word_tokenize(text)\n",
    "    new_words= [i.lower() for i in tokenized_words if i.isalnum()]\n",
    "    return new_words"
   ]
  },
  {
   "cell_type": "code",
   "execution_count": 13,
   "id": "cf9e922f",
   "metadata": {},
   "outputs": [
    {
     "data": {
      "text/plain": [
       "['hello',\n",
       " 'vip',\n",
       " 'i',\n",
       " 'smith',\n",
       " 'how',\n",
       " 'are',\n",
       " 'you',\n",
       " 'doing',\n",
       " 'today',\n",
       " 'flying',\n",
       " 'stopped',\n",
       " 'plane']"
      ]
     },
     "execution_count": 13,
     "metadata": {},
     "output_type": "execute_result"
    }
   ],
   "source": [
    "sentence  = \"Hello Mr. vip! i Smith, how are you doing today flying stopped plane ❤️?\"\n",
    "after_tok_pun = tok_pun(sentence)\n",
    "after_tok_pun"
   ]
  },
  {
   "cell_type": "markdown",
   "id": "eba1080a",
   "metadata": {},
   "source": [
    "## Stopwords"
   ]
  },
  {
   "cell_type": "code",
   "execution_count": 14,
   "id": "239d725f",
   "metadata": {},
   "outputs": [
    {
     "name": "stdout",
     "output_type": "stream",
     "text": [
      "{'your', 'haven', 'hadn', 'while', 'theirs', 'do', 'herself', 'o', \"didn't\", 'yourselves', 'which', 'own', 'other', 'when', 'and', 'they', 'did', 'a', 'shouldn', 'yours', 'there', 'each', 'further', \"mightn't\", 'whom', 'have', 'very', \"couldn't\", 'if', 'is', \"hadn't\", 'd', 'their', 'aren', 'any', 'am', 'both', 'been', 'into', 'more', 'mustn', 'after', \"wouldn't\", 'again', 'up', 'against', \"haven't\", 'her', 'but', 'above', 'will', 'couldn', 'in', 'few', 'them', 'during', 'its', 'down', 'so', \"wasn't\", 'has', 'where', 'our', 'no', \"isn't\", 'had', 'we', 'about', \"don't\", 'those', 'an', 'ours', 'same', 'to', 'myself', 'y', 'out', 're', 'then', \"you're\", 'the', 'were', \"mustn't\", 'doing', \"shan't\", 'what', 'his', 've', 'should', \"that'll\", 'my', \"you'd\", 'all', \"you've\", 'of', 'once', 'at', 'itself', 'are', 'how', 'some', 'under', 'before', 'here', 'be', 'because', 'isn', 'this', 'needn', 'didn', \"she's\", 'with', 'ma', 'it', 'don', 'from', 'having', 'between', 'being', 'she', \"should've\", 'for', 't', 'hasn', 'now', 'on', 'can', \"you'll\", 'i', 'him', 'who', 'through', 'weren', 'too', 'such', 'won', 'you', 'was', \"weren't\", 'over', 'these', 'me', \"doesn't\", 'off', 'until', \"aren't\", \"won't\", 'themselves', \"shouldn't\", 'by', 'wouldn', 's', \"it's\", 'not', 'just', 'hers', 'mightn', 'himself', 'below', \"hasn't\", 'ain', \"needn't\", 'nor', 'ourselves', 'yourself', 'll', 'why', 'most', 'doesn', 'that', 'shan', 'does', 'than', 'or', 'only', 'm', 'he', 'wasn', 'as'}\n"
     ]
    }
   ],
   "source": [
    "from nltk.corpus import stopwords\n",
    "stop_words=set(stopwords.words(\"english\"))\n",
    "print(stop_words)"
   ]
  },
  {
   "cell_type": "code",
   "execution_count": 15,
   "id": "51e8e971",
   "metadata": {},
   "outputs": [],
   "source": [
    "#secondly removing stop words\n",
    "\n",
    "def stop_word_remove(text):\n",
    "    filtered_sent=[]\n",
    "    for w in text:\n",
    "        if w not in stop_words:\n",
    "            filtered_sent.append(w)\n",
    "    return filtered_sent"
   ]
  },
  {
   "cell_type": "code",
   "execution_count": 16,
   "id": "f3c566b0",
   "metadata": {},
   "outputs": [
    {
     "data": {
      "text/plain": [
       "['hello', 'vip', 'smith', 'today', 'flying', 'stopped', 'plane']"
      ]
     },
     "execution_count": 16,
     "metadata": {},
     "output_type": "execute_result"
    }
   ],
   "source": [
    "after_stop = stop_word_remove(after_tok_pun)\n",
    "after_stop"
   ]
  },
  {
   "cell_type": "markdown",
   "id": "15ecd087",
   "metadata": {},
   "source": [
    "## POS Tagging"
   ]
  },
  {
   "cell_type": "code",
   "execution_count": 17,
   "id": "0dd99e8b",
   "metadata": {},
   "outputs": [],
   "source": [
    "#thirdly converting in POS format\n",
    "\n",
    "\n",
    "#nltk.download('averaged_perceptron_tagger')\n",
    "from nltk.tag import pos_tag\n",
    "def pos_tag_word(text):\n",
    "    pos_tagged_word = pos_tag(text)\n",
    "    return pos_tagged_word"
   ]
  },
  {
   "cell_type": "code",
   "execution_count": 18,
   "id": "42b554e5",
   "metadata": {},
   "outputs": [
    {
     "data": {
      "text/plain": [
       "[('hello', 'NN'),\n",
       " ('vip', 'NN'),\n",
       " ('smith', 'NN'),\n",
       " ('today', 'NN'),\n",
       " ('flying', 'VBG'),\n",
       " ('stopped', 'VBD'),\n",
       " ('plane', 'NN')]"
      ]
     },
     "execution_count": 18,
     "metadata": {},
     "output_type": "execute_result"
    }
   ],
   "source": [
    "after_pos_tag = pos_tag_word(after_stop)\n",
    "after_pos_tag"
   ]
  },
  {
   "cell_type": "markdown",
   "id": "b80d1764",
   "metadata": {},
   "source": [
    "## Lemmatization"
   ]
  },
  {
   "cell_type": "code",
   "execution_count": 19,
   "id": "1e3b3619",
   "metadata": {},
   "outputs": [],
   "source": [
    "#therefter doing lemmatization with using POS tagging\n",
    "\n",
    "\n",
    "#nltk.download('wordnet')\n",
    "from nltk.stem.wordnet import WordNetLemmatizer\n",
    "lem = WordNetLemmatizer()\n",
    "def lem_words(text):\n",
    "    lemmatized_output = []\n",
    "    for word, tag in text:\n",
    "        if tag.startswith(\"NN\"):\n",
    "            lemmatized_output.append(lem.lemmatize(word, pos='n'))\n",
    "        elif tag.startswith('VB'):\n",
    "            lemmatized_output.append(lem.lemmatize(word, pos='v'))\n",
    "        elif tag.startswith('JJ'):\n",
    "            lemmatized_output.append(lem.lemmatize(word, pos='a'))\n",
    "        else:\n",
    "            lemmatized_output.append(lem.lemmatize(word))\n",
    "    #lemmatized_output = ' '.join([lem.lemmatize(w) for w in text])\n",
    "    final_string = ' '.join([i for i in lemmatized_output])\n",
    "    return final_string"
   ]
  },
  {
   "cell_type": "code",
   "execution_count": 20,
   "id": "d6f960c9",
   "metadata": {},
   "outputs": [
    {
     "data": {
      "text/plain": [
       "'hello vip smith today fly stop plane'"
      ]
     },
     "execution_count": 20,
     "metadata": {},
     "output_type": "execute_result"
    }
   ],
   "source": [
    "after_lem_word = lem_words(after_pos_tag)\n",
    "after_lem_word"
   ]
  },
  {
   "cell_type": "code",
   "execution_count": 21,
   "id": "26ff2955",
   "metadata": {},
   "outputs": [],
   "source": [
    "def full_data_clean(text):\n",
    "    tokenized_words = word_tokenize(text)\n",
    "    new_words= [i.lower() for i in tokenized_words if i.isalnum()]\n",
    "    \n",
    "    filtered_sent=[]\n",
    "    for w in new_words:\n",
    "        if w not in stop_words:\n",
    "            filtered_sent.append(w)\n",
    "    \n",
    "    pos_tagged_word = pos_tag(filtered_sent)\n",
    "    \n",
    "    lemmatized_output = []\n",
    "    for word, tag in pos_tagged_word:\n",
    "        if tag.startswith(\"NN\"):\n",
    "            lemmatized_output.append(lem.lemmatize(word, pos='n'))\n",
    "        elif tag.startswith('VB'):\n",
    "            lemmatized_output.append(lem.lemmatize(word, pos='v'))\n",
    "        elif tag.startswith('JJ'):\n",
    "            lemmatized_output.append(lem.lemmatize(word, pos='a'))\n",
    "        else:\n",
    "            lemmatized_output.append(lem.lemmatize(word))\n",
    "    #lemmatized_output = ' '.join([lem.lemmatize(w) for w in text])\n",
    "    final_string = ' '.join([i for i in lemmatized_output])\n",
    "    return final_string"
   ]
  },
  {
   "cell_type": "code",
   "execution_count": 22,
   "id": "2b6aee27",
   "metadata": {},
   "outputs": [],
   "source": [
    "df1['cleaned_text'] = df1['text'].apply(full_data_clean)"
   ]
  },
  {
   "cell_type": "code",
   "execution_count": 23,
   "id": "2ca223b1",
   "metadata": {},
   "outputs": [
    {
     "data": {
      "text/html": [
       "<div>\n",
       "<style scoped>\n",
       "    .dataframe tbody tr th:only-of-type {\n",
       "        vertical-align: middle;\n",
       "    }\n",
       "\n",
       "    .dataframe tbody tr th {\n",
       "        vertical-align: top;\n",
       "    }\n",
       "\n",
       "    .dataframe thead th {\n",
       "        text-align: right;\n",
       "    }\n",
       "</style>\n",
       "<table border=\"1\" class=\"dataframe\">\n",
       "  <thead>\n",
       "    <tr style=\"text-align: right;\">\n",
       "      <th></th>\n",
       "      <th>title</th>\n",
       "      <th>date</th>\n",
       "      <th>rating</th>\n",
       "      <th>text</th>\n",
       "      <th>product</th>\n",
       "      <th>company</th>\n",
       "      <th>cleaned_text</th>\n",
       "    </tr>\n",
       "  </thead>\n",
       "  <tbody>\n",
       "    <tr>\n",
       "      <th>0</th>\n",
       "      <td>Great TV for cord cutting</td>\n",
       "      <td>NaT</td>\n",
       "      <td>5</td>\n",
       "      <td>after trying several budget tv's that all had ...</td>\n",
       "      <td>SAMSUNG 65\" Class Neo QLED 4K (2160P) LED Smar...</td>\n",
       "      <td>SAMSUNG</td>\n",
       "      <td>try several budget tv panel defect decide spen...</td>\n",
       "    </tr>\n",
       "    <tr>\n",
       "      <th>1</th>\n",
       "      <td>Frustrating</td>\n",
       "      <td>NaT</td>\n",
       "      <td>1</td>\n",
       "      <td>i've owned the tv for a little over 6 months, ...</td>\n",
       "      <td>SAMSUNG 65\" Class Neo QLED 4K (2160P) LED Smar...</td>\n",
       "      <td>SAMSUNG</td>\n",
       "      <td>own tv little 6 month mount soon arrive never ...</td>\n",
       "    </tr>\n",
       "    <tr>\n",
       "      <th>2</th>\n",
       "      <td>1000 hours in, I give it an A+</td>\n",
       "      <td>2021-05-06</td>\n",
       "      <td>5</td>\n",
       "      <td>After approximately 100 hours of use, here ar...</td>\n",
       "      <td>SAMSUNG 65\" Class Neo QLED 4K (2160P) LED Smar...</td>\n",
       "      <td>SAMSUNG</td>\n",
       "      <td>approximately 100 hour use current thought reg...</td>\n",
       "    </tr>\n",
       "    <tr>\n",
       "      <th>3</th>\n",
       "      <td>Picture Perfect</td>\n",
       "      <td>2021-04-14</td>\n",
       "      <td>5</td>\n",
       "      <td>I know that this isn't even the top of the li...</td>\n",
       "      <td>SAMSUNG 65\" Class Neo QLED 4K (2160P) LED Smar...</td>\n",
       "      <td>SAMSUNG</td>\n",
       "      <td>know even top line samsung could dream high qu...</td>\n",
       "    </tr>\n",
       "    <tr>\n",
       "      <th>4</th>\n",
       "      <td>Amazing Versatile TV!</td>\n",
       "      <td>2021-05-18</td>\n",
       "      <td>5</td>\n",
       "      <td>My husband and I absolutely love this TV.  Th...</td>\n",
       "      <td>SAMSUNG 65\" Class Neo QLED 4K (2160P) LED Smar...</td>\n",
       "      <td>SAMSUNG</td>\n",
       "      <td>husband absolutely love tv hdr amaze range dep...</td>\n",
       "    </tr>\n",
       "  </tbody>\n",
       "</table>\n",
       "</div>"
      ],
      "text/plain": [
       "                            title       date  rating  \\\n",
       "0       Great TV for cord cutting        NaT       5   \n",
       "1                     Frustrating        NaT       1   \n",
       "2  1000 hours in, I give it an A+ 2021-05-06       5   \n",
       "3                 Picture Perfect 2021-04-14       5   \n",
       "4           Amazing Versatile TV! 2021-05-18       5   \n",
       "\n",
       "                                                text  \\\n",
       "0  after trying several budget tv's that all had ...   \n",
       "1  i've owned the tv for a little over 6 months, ...   \n",
       "2   After approximately 100 hours of use, here ar...   \n",
       "3   I know that this isn't even the top of the li...   \n",
       "4   My husband and I absolutely love this TV.  Th...   \n",
       "\n",
       "                                             product  company  \\\n",
       "0  SAMSUNG 65\" Class Neo QLED 4K (2160P) LED Smar...  SAMSUNG   \n",
       "1  SAMSUNG 65\" Class Neo QLED 4K (2160P) LED Smar...  SAMSUNG   \n",
       "2  SAMSUNG 65\" Class Neo QLED 4K (2160P) LED Smar...  SAMSUNG   \n",
       "3  SAMSUNG 65\" Class Neo QLED 4K (2160P) LED Smar...  SAMSUNG   \n",
       "4  SAMSUNG 65\" Class Neo QLED 4K (2160P) LED Smar...  SAMSUNG   \n",
       "\n",
       "                                        cleaned_text  \n",
       "0  try several budget tv panel defect decide spen...  \n",
       "1  own tv little 6 month mount soon arrive never ...  \n",
       "2  approximately 100 hour use current thought reg...  \n",
       "3  know even top line samsung could dream high qu...  \n",
       "4  husband absolutely love tv hdr amaze range dep...  "
      ]
     },
     "execution_count": 23,
     "metadata": {},
     "output_type": "execute_result"
    }
   ],
   "source": [
    "df1.head()"
   ]
  },
  {
   "cell_type": "code",
   "execution_count": 24,
   "id": "910297e0",
   "metadata": {},
   "outputs": [],
   "source": [
    "df1['cleaned_title'] = df1['title'].apply(full_data_clean)"
   ]
  },
  {
   "cell_type": "code",
   "execution_count": 25,
   "id": "263dd830",
   "metadata": {},
   "outputs": [
    {
     "data": {
      "text/html": [
       "<div>\n",
       "<style scoped>\n",
       "    .dataframe tbody tr th:only-of-type {\n",
       "        vertical-align: middle;\n",
       "    }\n",
       "\n",
       "    .dataframe tbody tr th {\n",
       "        vertical-align: top;\n",
       "    }\n",
       "\n",
       "    .dataframe thead th {\n",
       "        text-align: right;\n",
       "    }\n",
       "</style>\n",
       "<table border=\"1\" class=\"dataframe\">\n",
       "  <thead>\n",
       "    <tr style=\"text-align: right;\">\n",
       "      <th></th>\n",
       "      <th>title</th>\n",
       "      <th>date</th>\n",
       "      <th>rating</th>\n",
       "      <th>text</th>\n",
       "      <th>product</th>\n",
       "      <th>company</th>\n",
       "      <th>cleaned_text</th>\n",
       "      <th>cleaned_title</th>\n",
       "    </tr>\n",
       "  </thead>\n",
       "  <tbody>\n",
       "    <tr>\n",
       "      <th>0</th>\n",
       "      <td>Great TV for cord cutting</td>\n",
       "      <td>NaT</td>\n",
       "      <td>5</td>\n",
       "      <td>after trying several budget tv's that all had ...</td>\n",
       "      <td>SAMSUNG 65\" Class Neo QLED 4K (2160P) LED Smar...</td>\n",
       "      <td>SAMSUNG</td>\n",
       "      <td>try several budget tv panel defect decide spen...</td>\n",
       "      <td>great tv cord cutting</td>\n",
       "    </tr>\n",
       "    <tr>\n",
       "      <th>1</th>\n",
       "      <td>Frustrating</td>\n",
       "      <td>NaT</td>\n",
       "      <td>1</td>\n",
       "      <td>i've owned the tv for a little over 6 months, ...</td>\n",
       "      <td>SAMSUNG 65\" Class Neo QLED 4K (2160P) LED Smar...</td>\n",
       "      <td>SAMSUNG</td>\n",
       "      <td>own tv little 6 month mount soon arrive never ...</td>\n",
       "      <td>frustrate</td>\n",
       "    </tr>\n",
       "    <tr>\n",
       "      <th>2</th>\n",
       "      <td>1000 hours in, I give it an A+</td>\n",
       "      <td>2021-05-06</td>\n",
       "      <td>5</td>\n",
       "      <td>After approximately 100 hours of use, here ar...</td>\n",
       "      <td>SAMSUNG 65\" Class Neo QLED 4K (2160P) LED Smar...</td>\n",
       "      <td>SAMSUNG</td>\n",
       "      <td>approximately 100 hour use current thought reg...</td>\n",
       "      <td>1000 hour give</td>\n",
       "    </tr>\n",
       "    <tr>\n",
       "      <th>3</th>\n",
       "      <td>Picture Perfect</td>\n",
       "      <td>2021-04-14</td>\n",
       "      <td>5</td>\n",
       "      <td>I know that this isn't even the top of the li...</td>\n",
       "      <td>SAMSUNG 65\" Class Neo QLED 4K (2160P) LED Smar...</td>\n",
       "      <td>SAMSUNG</td>\n",
       "      <td>know even top line samsung could dream high qu...</td>\n",
       "      <td>picture perfect</td>\n",
       "    </tr>\n",
       "    <tr>\n",
       "      <th>4</th>\n",
       "      <td>Amazing Versatile TV!</td>\n",
       "      <td>2021-05-18</td>\n",
       "      <td>5</td>\n",
       "      <td>My husband and I absolutely love this TV.  Th...</td>\n",
       "      <td>SAMSUNG 65\" Class Neo QLED 4K (2160P) LED Smar...</td>\n",
       "      <td>SAMSUNG</td>\n",
       "      <td>husband absolutely love tv hdr amaze range dep...</td>\n",
       "      <td>amaze versatile tv</td>\n",
       "    </tr>\n",
       "  </tbody>\n",
       "</table>\n",
       "</div>"
      ],
      "text/plain": [
       "                            title       date  rating  \\\n",
       "0       Great TV for cord cutting        NaT       5   \n",
       "1                     Frustrating        NaT       1   \n",
       "2  1000 hours in, I give it an A+ 2021-05-06       5   \n",
       "3                 Picture Perfect 2021-04-14       5   \n",
       "4           Amazing Versatile TV! 2021-05-18       5   \n",
       "\n",
       "                                                text  \\\n",
       "0  after trying several budget tv's that all had ...   \n",
       "1  i've owned the tv for a little over 6 months, ...   \n",
       "2   After approximately 100 hours of use, here ar...   \n",
       "3   I know that this isn't even the top of the li...   \n",
       "4   My husband and I absolutely love this TV.  Th...   \n",
       "\n",
       "                                             product  company  \\\n",
       "0  SAMSUNG 65\" Class Neo QLED 4K (2160P) LED Smar...  SAMSUNG   \n",
       "1  SAMSUNG 65\" Class Neo QLED 4K (2160P) LED Smar...  SAMSUNG   \n",
       "2  SAMSUNG 65\" Class Neo QLED 4K (2160P) LED Smar...  SAMSUNG   \n",
       "3  SAMSUNG 65\" Class Neo QLED 4K (2160P) LED Smar...  SAMSUNG   \n",
       "4  SAMSUNG 65\" Class Neo QLED 4K (2160P) LED Smar...  SAMSUNG   \n",
       "\n",
       "                                        cleaned_text          cleaned_title  \n",
       "0  try several budget tv panel defect decide spen...  great tv cord cutting  \n",
       "1  own tv little 6 month mount soon arrive never ...              frustrate  \n",
       "2  approximately 100 hour use current thought reg...         1000 hour give  \n",
       "3  know even top line samsung could dream high qu...        picture perfect  \n",
       "4  husband absolutely love tv hdr amaze range dep...     amaze versatile tv  "
      ]
     },
     "execution_count": 25,
     "metadata": {},
     "output_type": "execute_result"
    }
   ],
   "source": [
    "df1.head()"
   ]
  },
  {
   "cell_type": "code",
   "execution_count": 26,
   "id": "5a554658",
   "metadata": {},
   "outputs": [],
   "source": [
    "df1.to_csv('cleaned_data.csv')"
   ]
  },
  {
   "cell_type": "code",
   "execution_count": null,
   "id": "2df2c7f2",
   "metadata": {},
   "outputs": [],
   "source": []
  }
 ],
 "metadata": {
  "kernelspec": {
   "display_name": "Python 3",
   "language": "python",
   "name": "python3"
  },
  "language_info": {
   "codemirror_mode": {
    "name": "ipython",
    "version": 3
   },
   "file_extension": ".py",
   "mimetype": "text/x-python",
   "name": "python",
   "nbconvert_exporter": "python",
   "pygments_lexer": "ipython3",
   "version": "3.8.8"
  }
 },
 "nbformat": 4,
 "nbformat_minor": 5
}
